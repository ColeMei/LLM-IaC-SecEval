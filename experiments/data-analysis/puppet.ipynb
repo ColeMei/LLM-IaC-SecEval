{
  "cells": [
    {
      "cell_type": "markdown",
      "metadata": {
        "vscode": {
          "languageId": "raw"
        }
      },
      "source": [
        "# Security Smells Detection Analysis: GLITCH vs Ground Truth (Puppet)\n",
        "\n",
        "This notebook analyzes the performance of GLITCH static analysis tool in detecting three critical security smells in Puppet manifests:\n",
        "\n",
        "1. **Hard-coded secret**\n",
        "2. **Suspicious comment** \n",
        "3. **Use of weak cryptography algorithms**\n",
        "\n",
        "We compare GLITCH detection results against manually annotated ground truth data to calculate precision, recall, and F1-scores.\n"
      ]
    },
    {
      "cell_type": "markdown",
      "metadata": {
        "vscode": {
          "languageId": "raw"
        }
      },
      "source": [
        "## Data Loading and Setup\n"
      ]
    },
    {
      "cell_type": "code",
      "execution_count": 1,
      "metadata": {},
      "outputs": [
        {
          "name": "stdout",
          "output_type": "stream",
          "text": [
            "Oracle dataset: 117 records\n",
            "GLITCH dataset: 197 records\n"
          ]
        }
      ],
      "source": [
        "import pandas as pd\n",
        "import numpy as np\n",
        "\n",
        "# Load datasets\n",
        "oracle_df = pd.read_csv('../../data/oracle-dataset-puppet.csv')\n",
        "glitch_df = pd.read_csv('../../data/GLITCH-puppet-oracle.csv')\n",
        "\n",
        "print(f\"Oracle dataset: {oracle_df.shape[0]} records\")\n",
        "print(f\"GLITCH dataset: {glitch_df.shape[0]} records\")\n",
        "\n",
        "# Define target security smell categories\n",
        "target_categories = [\n",
        "    'Hard-coded secret',\n",
        "    'Suspicious comment', \n",
        "    'Use of weak cryptography algorithms'\n",
        "]\n",
        "\n",
        "glitch_target_categories = [\n",
        "    'hardcoded-secret',\n",
        "    'suspicious comment', \n",
        "    'weak cryptography algorithms'\n",
        "]\n",
        "\n",
        "# Category mapping\n",
        "category_mapping = {\n",
        "    'Hard-coded secret': 'hardcoded-secret',\n",
        "    'Suspicious comment': 'suspicious comment',\n",
        "    'Use of weak cryptography algorithms': 'weak cryptography algorithms'\n",
        "}\n"
      ]
    },
    {
      "cell_type": "markdown",
      "metadata": {
        "vscode": {
          "languageId": "raw"
        }
      },
      "source": [
        "## Ground Truth Analysis\n"
      ]
    },
    {
      "cell_type": "code",
      "execution_count": 2,
      "metadata": {},
      "outputs": [
        {
          "name": "stdout",
          "output_type": "stream",
          "text": [
            "Ground Truth Security Smells Distribution:\n",
            "Hard-coded secret                      11\n",
            "Suspicious comment                      9\n",
            "Use of weak cryptography algorithms     4\n",
            "Name: CATEGORY, dtype: int64\n",
            "\n",
            "Total: 24 instances\n"
          ]
        },
        {
          "data": {
            "text/html": [
              "<div>\n",
              "<style scoped>\n",
              "    .dataframe tbody tr th:only-of-type {\n",
              "        vertical-align: middle;\n",
              "    }\n",
              "\n",
              "    .dataframe tbody tr th {\n",
              "        vertical-align: top;\n",
              "    }\n",
              "\n",
              "    .dataframe thead th {\n",
              "        text-align: right;\n",
              "    }\n",
              "</style>\n",
              "<table border=\"1\" class=\"dataframe\">\n",
              "  <thead>\n",
              "    <tr style=\"text-align: right;\">\n",
              "      <th></th>\n",
              "      <th>PATH</th>\n",
              "      <th>LINE</th>\n",
              "      <th>CATEGORY</th>\n",
              "      <th>AGREEMENT</th>\n",
              "      <th>ID</th>\n",
              "    </tr>\n",
              "  </thead>\n",
              "  <tbody>\n",
              "    <tr>\n",
              "      <th>16</th>\n",
              "      <td>alphagov@govuk-puppet-modules-govuk-manifests-...</td>\n",
              "      <td>1</td>\n",
              "      <td>Suspicious comment</td>\n",
              "      <td>3</td>\n",
              "      <td>alphagov@govuk-puppet-modules-govuk-manifests-...</td>\n",
              "    </tr>\n",
              "    <tr>\n",
              "      <th>20</th>\n",
              "      <td>alphagov@govuk-puppet-modules-govuk_elasticsea...</td>\n",
              "      <td>1</td>\n",
              "      <td>Suspicious comment</td>\n",
              "      <td>3</td>\n",
              "      <td>alphagov@govuk-puppet-modules-govuk_elasticsea...</td>\n",
              "    </tr>\n",
              "    <tr>\n",
              "      <th>25</th>\n",
              "      <td>alphagov@govuk-puppet-modules-govuk_postgresql...</td>\n",
              "      <td>23</td>\n",
              "      <td>Use of weak cryptography algorithms</td>\n",
              "      <td>2</td>\n",
              "      <td>alphagov@govuk-puppet-modules-govuk_postgresql...</td>\n",
              "    </tr>\n",
              "    <tr>\n",
              "      <th>26</th>\n",
              "      <td>alphagov@govuk-puppet-modules-govuk_rabbitmq-m...</td>\n",
              "      <td>1</td>\n",
              "      <td>Suspicious comment</td>\n",
              "      <td>3</td>\n",
              "      <td>alphagov@govuk-puppet-modules-govuk_rabbitmq-m...</td>\n",
              "    </tr>\n",
              "    <tr>\n",
              "      <th>28</th>\n",
              "      <td>alphagov@govuk-puppet-modules-icinga-manifests...</td>\n",
              "      <td>1</td>\n",
              "      <td>Suspicious comment</td>\n",
              "      <td>3</td>\n",
              "      <td>alphagov@govuk-puppet-modules-icinga-manifests...</td>\n",
              "    </tr>\n",
              "  </tbody>\n",
              "</table>\n",
              "</div>"
            ],
            "text/plain": [
              "                                                 PATH  LINE  \\\n",
              "16  alphagov@govuk-puppet-modules-govuk-manifests-...     1   \n",
              "20  alphagov@govuk-puppet-modules-govuk_elasticsea...     1   \n",
              "25  alphagov@govuk-puppet-modules-govuk_postgresql...    23   \n",
              "26  alphagov@govuk-puppet-modules-govuk_rabbitmq-m...     1   \n",
              "28  alphagov@govuk-puppet-modules-icinga-manifests...     1   \n",
              "\n",
              "                               CATEGORY  AGREEMENT  \\\n",
              "16                   Suspicious comment          3   \n",
              "20                   Suspicious comment          3   \n",
              "25  Use of weak cryptography algorithms          2   \n",
              "26                   Suspicious comment          3   \n",
              "28                   Suspicious comment          3   \n",
              "\n",
              "                                                   ID  \n",
              "16  alphagov@govuk-puppet-modules-govuk-manifests-...  \n",
              "20  alphagov@govuk-puppet-modules-govuk_elasticsea...  \n",
              "25  alphagov@govuk-puppet-modules-govuk_postgresql...  \n",
              "26  alphagov@govuk-puppet-modules-govuk_rabbitmq-m...  \n",
              "28  alphagov@govuk-puppet-modules-icinga-manifests...  "
            ]
          },
          "execution_count": 2,
          "metadata": {},
          "output_type": "execute_result"
        }
      ],
      "source": [
        "# Filter ground truth for target security smells\n",
        "oracle_security_smells = oracle_df[oracle_df['CATEGORY'].isin(target_categories)].copy()\n",
        "oracle_security_smells['ID'] = oracle_security_smells['PATH'] + '_' + oracle_security_smells['LINE'].astype(str)\n",
        "\n",
        "print(\"Ground Truth Security Smells Distribution:\")\n",
        "print(oracle_security_smells['CATEGORY'].value_counts())\n",
        "print(f\"\\nTotal: {len(oracle_security_smells)} instances\")\n",
        "\n",
        "oracle_security_smells.head()\n"
      ]
    },
    {
      "cell_type": "markdown",
      "metadata": {
        "vscode": {
          "languageId": "raw"
        }
      },
      "source": [
        "## GLITCH Detection Results\n"
      ]
    },
    {
      "cell_type": "code",
      "execution_count": 3,
      "metadata": {},
      "outputs": [
        {
          "name": "stdout",
          "output_type": "stream",
          "text": [
            "GLITCH Security Smells Detection Results:\n",
            "hardcoded-secret                66\n",
            "suspicious comment              23\n",
            "weak cryptography algorithms     7\n",
            "Name: ERROR, dtype: int64\n",
            "\n",
            "Total: 96 detections\n"
          ]
        },
        {
          "data": {
            "text/html": [
              "<div>\n",
              "<style scoped>\n",
              "    .dataframe tbody tr th:only-of-type {\n",
              "        vertical-align: middle;\n",
              "    }\n",
              "\n",
              "    .dataframe tbody tr th {\n",
              "        vertical-align: top;\n",
              "    }\n",
              "\n",
              "    .dataframe thead th {\n",
              "        text-align: right;\n",
              "    }\n",
              "</style>\n",
              "<table border=\"1\" class=\"dataframe\">\n",
              "  <thead>\n",
              "    <tr style=\"text-align: right;\">\n",
              "      <th></th>\n",
              "      <th>PATH</th>\n",
              "      <th>LINE</th>\n",
              "      <th>ERROR</th>\n",
              "      <th>ID</th>\n",
              "    </tr>\n",
              "  </thead>\n",
              "  <tbody>\n",
              "    <tr>\n",
              "      <th>0</th>\n",
              "      <td>Automattic@vip-quickstart-puppet-manifests-sec...</td>\n",
              "      <td>1</td>\n",
              "      <td>suspicious comment</td>\n",
              "      <td>Automattic@vip-quickstart-puppet-manifests-sec...</td>\n",
              "    </tr>\n",
              "    <tr>\n",
              "      <th>2</th>\n",
              "      <td>Automattic@vip-quickstart-puppet-manifests-sec...</td>\n",
              "      <td>7</td>\n",
              "      <td>hardcoded-secret</td>\n",
              "      <td>Automattic@vip-quickstart-puppet-manifests-sec...</td>\n",
              "    </tr>\n",
              "    <tr>\n",
              "      <th>5</th>\n",
              "      <td>Juniper@contrail-puppet-contrail-environment-m...</td>\n",
              "      <td>166</td>\n",
              "      <td>hardcoded-secret</td>\n",
              "      <td>Juniper@contrail-puppet-contrail-environment-m...</td>\n",
              "    </tr>\n",
              "    <tr>\n",
              "      <th>6</th>\n",
              "      <td>Juniper@contrail-puppet-contrail-environment-m...</td>\n",
              "      <td>171</td>\n",
              "      <td>hardcoded-secret</td>\n",
              "      <td>Juniper@contrail-puppet-contrail-environment-m...</td>\n",
              "    </tr>\n",
              "    <tr>\n",
              "      <th>7</th>\n",
              "      <td>Juniper@contrail-puppet-contrail-environment-m...</td>\n",
              "      <td>176</td>\n",
              "      <td>hardcoded-secret</td>\n",
              "      <td>Juniper@contrail-puppet-contrail-environment-m...</td>\n",
              "    </tr>\n",
              "  </tbody>\n",
              "</table>\n",
              "</div>"
            ],
            "text/plain": [
              "                                                PATH  LINE  \\\n",
              "0  Automattic@vip-quickstart-puppet-manifests-sec...     1   \n",
              "2  Automattic@vip-quickstart-puppet-manifests-sec...     7   \n",
              "5  Juniper@contrail-puppet-contrail-environment-m...   166   \n",
              "6  Juniper@contrail-puppet-contrail-environment-m...   171   \n",
              "7  Juniper@contrail-puppet-contrail-environment-m...   176   \n",
              "\n",
              "                ERROR                                                 ID  \n",
              "0  suspicious comment  Automattic@vip-quickstart-puppet-manifests-sec...  \n",
              "2    hardcoded-secret  Automattic@vip-quickstart-puppet-manifests-sec...  \n",
              "5    hardcoded-secret  Juniper@contrail-puppet-contrail-environment-m...  \n",
              "6    hardcoded-secret  Juniper@contrail-puppet-contrail-environment-m...  \n",
              "7    hardcoded-secret  Juniper@contrail-puppet-contrail-environment-m...  "
            ]
          },
          "execution_count": 3,
          "metadata": {},
          "output_type": "execute_result"
        }
      ],
      "source": [
        "# Filter GLITCH results for target security smells\n",
        "glitch_security_smells = glitch_df[glitch_df['ERROR'].isin(glitch_target_categories)].copy()\n",
        "glitch_security_smells['ID'] = glitch_security_smells['PATH'] + '_' + glitch_security_smells['LINE'].astype(str)\n",
        "\n",
        "print(\"GLITCH Security Smells Detection Results:\")\n",
        "print(glitch_security_smells['ERROR'].value_counts())\n",
        "print(f\"\\nTotal: {len(glitch_security_smells)} detections\")\n",
        "\n",
        "glitch_security_smells.head()\n"
      ]
    },
    {
      "cell_type": "markdown",
      "metadata": {
        "vscode": {
          "languageId": "raw"
        }
      },
      "source": [
        "## Performance Analysis: Precision and Recall\n",
        "\n",
        "Comparing GLITCH detections against ground truth to evaluate tool performance.\n"
      ]
    },
    {
      "cell_type": "code",
      "execution_count": 4,
      "metadata": {},
      "outputs": [
        {
          "name": "stdout",
          "output_type": "stream",
          "text": [
            "Performance Results by Category:\n"
          ]
        },
        {
          "data": {
            "text/html": [
              "<div>\n",
              "<style scoped>\n",
              "    .dataframe tbody tr th:only-of-type {\n",
              "        vertical-align: middle;\n",
              "    }\n",
              "\n",
              "    .dataframe tbody tr th {\n",
              "        vertical-align: top;\n",
              "    }\n",
              "\n",
              "    .dataframe thead th {\n",
              "        text-align: right;\n",
              "    }\n",
              "</style>\n",
              "<table border=\"1\" class=\"dataframe\">\n",
              "  <thead>\n",
              "    <tr style=\"text-align: right;\">\n",
              "      <th></th>\n",
              "      <th>Ground_Truth</th>\n",
              "      <th>GLITCH_Detections</th>\n",
              "      <th>True_Positives</th>\n",
              "      <th>False_Positives</th>\n",
              "      <th>False_Negatives</th>\n",
              "      <th>Precision</th>\n",
              "      <th>Recall</th>\n",
              "      <th>F1_Score</th>\n",
              "    </tr>\n",
              "  </thead>\n",
              "  <tbody>\n",
              "    <tr>\n",
              "      <th>Hard-coded secret</th>\n",
              "      <td>11.0</td>\n",
              "      <td>66.0</td>\n",
              "      <td>9.0</td>\n",
              "      <td>57.0</td>\n",
              "      <td>2.0</td>\n",
              "      <td>0.136</td>\n",
              "      <td>0.818</td>\n",
              "      <td>0.234</td>\n",
              "    </tr>\n",
              "    <tr>\n",
              "      <th>Suspicious comment</th>\n",
              "      <td>9.0</td>\n",
              "      <td>23.0</td>\n",
              "      <td>9.0</td>\n",
              "      <td>14.0</td>\n",
              "      <td>0.0</td>\n",
              "      <td>0.391</td>\n",
              "      <td>1.000</td>\n",
              "      <td>0.562</td>\n",
              "    </tr>\n",
              "    <tr>\n",
              "      <th>Use of weak cryptography algorithms</th>\n",
              "      <td>4.0</td>\n",
              "      <td>7.0</td>\n",
              "      <td>4.0</td>\n",
              "      <td>3.0</td>\n",
              "      <td>0.0</td>\n",
              "      <td>0.571</td>\n",
              "      <td>1.000</td>\n",
              "      <td>0.727</td>\n",
              "    </tr>\n",
              "  </tbody>\n",
              "</table>\n",
              "</div>"
            ],
            "text/plain": [
              "                                     Ground_Truth  GLITCH_Detections  \\\n",
              "Hard-coded secret                            11.0               66.0   \n",
              "Suspicious comment                            9.0               23.0   \n",
              "Use of weak cryptography algorithms           4.0                7.0   \n",
              "\n",
              "                                     True_Positives  False_Positives  \\\n",
              "Hard-coded secret                               9.0             57.0   \n",
              "Suspicious comment                              9.0             14.0   \n",
              "Use of weak cryptography algorithms             4.0              3.0   \n",
              "\n",
              "                                     False_Negatives  Precision  Recall  \\\n",
              "Hard-coded secret                                2.0      0.136   0.818   \n",
              "Suspicious comment                               0.0      0.391   1.000   \n",
              "Use of weak cryptography algorithms              0.0      0.571   1.000   \n",
              "\n",
              "                                     F1_Score  \n",
              "Hard-coded secret                       0.234  \n",
              "Suspicious comment                      0.562  \n",
              "Use of weak cryptography algorithms     0.727  "
            ]
          },
          "execution_count": 4,
          "metadata": {},
          "output_type": "execute_result"
        }
      ],
      "source": [
        "# Calculate performance metrics by category\n",
        "results = {}\n",
        "\n",
        "for oracle_cat, glitch_cat in category_mapping.items():\n",
        "    # Get ground truth and GLITCH instances for this category\n",
        "    oracle_instances = set(oracle_security_smells[oracle_security_smells['CATEGORY'] == oracle_cat]['ID'])\n",
        "    glitch_instances = set(glitch_security_smells[glitch_security_smells['ERROR'] == glitch_cat]['ID'])\n",
        "    \n",
        "    # Calculate metrics\n",
        "    tp = len(oracle_instances.intersection(glitch_instances))\n",
        "    fp = len(glitch_instances - oracle_instances)\n",
        "    fn = len(oracle_instances - glitch_instances)\n",
        "    \n",
        "    precision = tp / (tp + fp) if (tp + fp) > 0 else 0\n",
        "    recall = tp / (tp + fn) if (tp + fn) > 0 else 0\n",
        "    f1_score = 2 * (precision * recall) / (precision + recall) if (precision + recall) > 0 else 0\n",
        "    \n",
        "    results[oracle_cat] = {\n",
        "        'Ground_Truth': len(oracle_instances),\n",
        "        'GLITCH_Detections': len(glitch_instances),\n",
        "        'True_Positives': tp,\n",
        "        'False_Positives': fp,\n",
        "        'False_Negatives': fn,\n",
        "        'Precision': precision,\n",
        "        'Recall': recall,\n",
        "        'F1_Score': f1_score\n",
        "    }\n",
        "\n",
        "# Create results dataframe\n",
        "results_df = pd.DataFrame(results).T.round(3)\n",
        "print(\"Performance Results by Category:\")\n",
        "results_df\n"
      ]
    },
    {
      "cell_type": "markdown",
      "metadata": {
        "vscode": {
          "languageId": "raw"
        }
      },
      "source": [
        "## Overall Performance Summary\n"
      ]
    },
    {
      "cell_type": "code",
      "execution_count": 5,
      "metadata": {},
      "outputs": [
        {
          "name": "stdout",
          "output_type": "stream",
          "text": [
            "Overall Performance Metrics:\n",
            "Ground Truth Instances: 24\n",
            "GLITCH Detections: 96\n",
            "True Positives: 22\n",
            "False Positives: 74\n",
            "False Negatives: 2\n",
            "Precision: 0.229\n",
            "Recall: 0.917\n",
            "F1-Score: 0.367\n",
            "\n",
            "Examples of True Positives (first 3):\n",
            "1. openstack@puppet-openstack-integration-manifests-designate.pp:37 - Suspicious comment\n",
            "2. voxpupuli@puppet-rabbitmq-examples-permissions-add.pp:2 - Hard-coded secret\n",
            "3. openstack@fuel-library-deployment-puppet-osnailyfacter-manifests-ssh.pp:35 - Use of weak cryptography algorithms\n",
            "\n",
            "Examples of False Negatives (first 3):\n",
            "1. openstack@puppet-openstack-integration-manifests-designate.pp:27 - Hard-coded secret\n",
            "2. openstack@puppet-openstack-integration-manifests-designate.pp:26 - Hard-coded secret\n"
          ]
        }
      ],
      "source": [
        "# Calculate overall metrics across all categories\n",
        "all_oracle_ids = set(oracle_security_smells['ID'])\n",
        "all_glitch_ids = set(glitch_security_smells['ID'])\n",
        "\n",
        "overall_tp = len(all_oracle_ids.intersection(all_glitch_ids))\n",
        "overall_fp = len(all_glitch_ids - all_oracle_ids)\n",
        "overall_fn = len(all_oracle_ids - all_glitch_ids)\n",
        "\n",
        "overall_precision = overall_tp / (overall_tp + overall_fp) if (overall_tp + overall_fp) > 0 else 0\n",
        "overall_recall = overall_tp / (overall_tp + overall_fn) if (overall_tp + overall_fn) > 0 else 0\n",
        "overall_f1 = 2 * (overall_precision * overall_recall) / (overall_precision + overall_recall) if (overall_precision + overall_recall) > 0 else 0\n",
        "\n",
        "print(f\"Overall Performance Metrics:\")\n",
        "print(f\"Ground Truth Instances: {len(all_oracle_ids)}\")\n",
        "print(f\"GLITCH Detections: {len(all_glitch_ids)}\")\n",
        "print(f\"True Positives: {overall_tp}\")\n",
        "print(f\"False Positives: {overall_fp}\")\n",
        "print(f\"False Negatives: {overall_fn}\")\n",
        "print(f\"Precision: {overall_precision:.3f}\")\n",
        "print(f\"Recall: {overall_recall:.3f}\")\n",
        "print(f\"F1-Score: {overall_f1:.3f}\")\n",
        "\n",
        "# Show examples\n",
        "print(f\"\\nExamples of True Positives (first 3):\")\n",
        "if overall_tp > 0:\n",
        "    correct_detections = list(all_oracle_ids.intersection(all_glitch_ids))[:3]\n",
        "    for i, detection_id in enumerate(correct_detections):\n",
        "        oracle_info = oracle_security_smells[oracle_security_smells['ID'] == detection_id].iloc[0]\n",
        "        print(f\"{i+1}. {oracle_info['PATH']}:{oracle_info['LINE']} - {oracle_info['CATEGORY']}\")\n",
        "\n",
        "print(f\"\\nExamples of False Negatives (first 3):\")\n",
        "if overall_fn > 0:\n",
        "    missed_detections = list(all_oracle_ids - all_glitch_ids)[:3]\n",
        "    for i, detection_id in enumerate(missed_detections):\n",
        "        oracle_info = oracle_security_smells[oracle_security_smells['ID'] == detection_id].iloc[0]\n",
        "        print(f\"{i+1}. {oracle_info['PATH']}:{oracle_info['LINE']} - {oracle_info['CATEGORY']}\")\n"
      ]
    }
  ],
  "metadata": {
    "kernelspec": {
      "display_name": "research",
      "language": "python",
      "name": "python3"
    },
    "language_info": {
      "codemirror_mode": {
        "name": "ipython",
        "version": 3
      },
      "file_extension": ".py",
      "mimetype": "text/x-python",
      "name": "python",
      "nbconvert_exporter": "python",
      "pygments_lexer": "ipython3",
      "version": "3.10.18"
    }
  },
  "nbformat": 4,
  "nbformat_minor": 2
}
