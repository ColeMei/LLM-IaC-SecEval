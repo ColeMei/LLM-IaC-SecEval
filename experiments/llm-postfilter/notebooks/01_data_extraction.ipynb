{
  "cells": [
    {
      "cell_type": "markdown",
      "metadata": {
        "vscode": {
          "languageId": "raw"
        }
      },
      "source": [
        "# LLM Post-Filter Experiment: Data Extraction\n",
        "\n",
        "This notebook extracts GLITCH detections with context for LLM evaluation, leveraging our baseline experiment results.\n",
        "\n",
        "## Goals:\n",
        "1. Extract all True Positive and False Positive GLITCH detections\n",
        "2. Prepare data structure for LLM post-filtering  \n",
        "3. Create summary statistics for the experiment\n",
        "\n",
        "## Data Sources:\n",
        "- **Baseline**: Chef and Puppet experiment results\n",
        "- **Target Smells**: Hard-coded secret, Suspicious comment, Use of weak cryptography algorithms\n"
      ]
    },
    {
      "cell_type": "markdown",
      "metadata": {
        "vscode": {
          "languageId": "raw"
        }
      },
      "source": [
        "## Setup and Imports\n"
      ]
    },
    {
      "cell_type": "code",
      "execution_count": 4,
      "metadata": {},
      "outputs": [
        {
          "name": "stdout",
          "output_type": "stream",
          "text": [
            "Project root: /Users/colemei/Library/Mobile Documents/com~apple~CloudDocs/01.Work/04.Master/Course/Research Program/Project/LLM-IaC-SecEval\n",
            "Working directory: /Users/colemei/Library/Mobile Documents/com~apple~CloudDocs/01.Work/04.Master/Course/Research Program/Project/LLM-IaC-SecEval/experiments/llm-postfilter/notebooks\n",
            "✅ Data extractor initialized successfully!\n"
          ]
        }
      ],
      "source": [
        "import sys\n",
        "import pandas as pd\n",
        "import numpy as np\n",
        "from pathlib import Path\n",
        "\n",
        "# Add the src directory to path to import our hybrid modules\n",
        "project_root = Path.cwd().parent.parent.parent\n",
        "sys.path.append(str(project_root / \"src\"))\n",
        "\n",
        "from hybrid.data_extractor import GLITCHDetectionExtractor\n",
        "\n",
        "print(f\"Project root: {project_root}\")\n",
        "print(f\"Working directory: {Path.cwd()}\")\n",
        "\n",
        "# Initialize the extractor\n",
        "extractor = GLITCHDetectionExtractor(project_root)\n",
        "print(\"✅ Data extractor initialized successfully!\")\n"
      ]
    },
    {
      "cell_type": "markdown",
      "metadata": {
        "vscode": {
          "languageId": "raw"
        }
      },
      "source": [
        "## Extract Chef Detections\n"
      ]
    },
    {
      "cell_type": "code",
      "execution_count": 5,
      "metadata": {},
      "outputs": [
        {
          "name": "stderr",
          "output_type": "stream",
          "text": [
            "INFO:hybrid.data_extractor:Loaded chef data: Oracle=148, GLITCH=166\n",
            "INFO:hybrid.data_extractor:Hard-coded secret: 9 TP, 37 FP\n",
            "INFO:hybrid.data_extractor:Suspicious comment: 4 TP, 6 FP\n",
            "INFO:hybrid.data_extractor:Use of weak cryptography algorithms: 1 TP, 1 FP\n",
            "INFO:hybrid.data_extractor:Extracted 46 detections for Hard-coded secret\n",
            "INFO:hybrid.data_extractor:Extracted 10 detections for Suspicious comment\n",
            "INFO:hybrid.data_extractor:Extracted 2 detections for Use of weak cryptography algorithms\n"
          ]
        },
        {
          "name": "stdout",
          "output_type": "stream",
          "text": [
            "🔍 Extracting Chef detections...\n",
            "\n",
            "📊 Chef Detection Summary:\n",
            "  Hard-coded secret:\n",
            "    Total: 46 | TP: 9 | FP: 37\n",
            "  Suspicious comment:\n",
            "    Total: 10 | TP: 4 | FP: 6\n",
            "  Use of weak cryptography algorithms:\n",
            "    Total: 2 | TP: 1 | FP: 1\n",
            "\n",
            "📝 Example detection structure (Hard-coded secret):\n",
            "  detection_id: chef_Hard-coded secret_chef-boneyard_qa-chef-server-cluster-attributes-default.rb_3\n",
            "  iac_tool: chef\n",
            "  smell_category: Hard-coded secret\n",
            "  glitch_smell: hardcoded-secret\n",
            "  file_path: chef-boneyard_qa-chef-server-cluster-attributes-default.rb\n",
            "  line_number: 3\n",
            "  detection_id_raw: chef-boneyard_qa-chef-server-cluster-attributes-default.rb_3\n",
            "  is_true_positive: True\n",
            "  glitch_detection: True\n"
          ]
        }
      ],
      "source": [
        "print(\"🔍 Extracting Chef detections...\")\n",
        "\n",
        "# Extract Chef detections\n",
        "chef_detections = extractor.extract_detections_for_llm('chef')\n",
        "\n",
        "print(f\"\\n📊 Chef Detection Summary:\")\n",
        "for smell, detections in chef_detections.items():\n",
        "    tp_count = sum(1 for d in detections if d['is_true_positive'])\n",
        "    fp_count = sum(1 for d in detections if not d['is_true_positive'])\n",
        "    print(f\"  {smell}:\")\n",
        "    print(f\"    Total: {len(detections)} | TP: {tp_count} | FP: {fp_count}\")\n",
        "\n",
        "# Show example detection structure\n",
        "if chef_detections:\n",
        "    first_smell = next(iter(chef_detections.keys()))\n",
        "    if chef_detections[first_smell]:\n",
        "        print(f\"\\n📝 Example detection structure ({first_smell}):\")\n",
        "        example = chef_detections[first_smell][0]\n",
        "        for key, value in example.items():\n",
        "            print(f\"  {key}: {value}\")\n",
        "    else:\n",
        "        print(f\"\\n⚠️ No detections found for {first_smell}\")\n",
        "else:\n",
        "    print(\"\\n❌ No detections extracted!\")\n"
      ]
    },
    {
      "cell_type": "markdown",
      "metadata": {
        "vscode": {
          "languageId": "raw"
        }
      },
      "source": [
        "## Extract Puppet Detections\n"
      ]
    },
    {
      "cell_type": "code",
      "execution_count": 6,
      "metadata": {},
      "outputs": [
        {
          "name": "stderr",
          "output_type": "stream",
          "text": [
            "INFO:hybrid.data_extractor:Loaded puppet data: Oracle=117, GLITCH=197\n",
            "INFO:hybrid.data_extractor:Hard-coded secret: 9 TP, 57 FP\n"
          ]
        },
        {
          "name": "stderr",
          "output_type": "stream",
          "text": [
            "INFO:hybrid.data_extractor:Suspicious comment: 9 TP, 14 FP\n",
            "INFO:hybrid.data_extractor:Use of weak cryptography algorithms: 4 TP, 3 FP\n",
            "INFO:hybrid.data_extractor:Extracted 66 detections for Hard-coded secret\n",
            "INFO:hybrid.data_extractor:Extracted 23 detections for Suspicious comment\n",
            "INFO:hybrid.data_extractor:Extracted 7 detections for Use of weak cryptography algorithms\n"
          ]
        },
        {
          "name": "stdout",
          "output_type": "stream",
          "text": [
            "🔍 Extracting Puppet detections...\n",
            "\n",
            "📊 Puppet Detection Summary:\n",
            "  Hard-coded secret:\n",
            "    Total: 66 | TP: 9 | FP: 57\n",
            "  Suspicious comment:\n",
            "    Total: 23 | TP: 9 | FP: 14\n",
            "  Use of weak cryptography algorithms:\n",
            "    Total: 7 | TP: 4 | FP: 3\n",
            "\n",
            "🔄 Chef vs Puppet Comparison:\n",
            "  Hard-coded secret: Chef=46, Puppet=66\n",
            "  Suspicious comment: Chef=10, Puppet=23\n",
            "  Use of weak cryptography algorithms: Chef=2, Puppet=7\n",
            "\n",
            "✅ Total detections extracted: 154\n"
          ]
        }
      ],
      "source": [
        "print(\"🔍 Extracting Puppet detections...\")\n",
        "\n",
        "# Extract Puppet detections\n",
        "puppet_detections = extractor.extract_detections_for_llm('puppet')\n",
        "\n",
        "print(f\"\\n📊 Puppet Detection Summary:\")\n",
        "for smell, detections in puppet_detections.items():\n",
        "    tp_count = sum(1 for d in detections if d['is_true_positive'])\n",
        "    fp_count = sum(1 for d in detections if not d['is_true_positive'])\n",
        "    print(f\"  {smell}:\")\n",
        "    print(f\"    Total: {len(detections)} | TP: {tp_count} | FP: {fp_count}\")\n",
        "\n",
        "# Compare with Chef\n",
        "print(f\"\\n🔄 Chef vs Puppet Comparison:\")\n",
        "all_smells = set(chef_detections.keys()) | set(puppet_detections.keys())\n",
        "for smell in sorted(all_smells):\n",
        "    chef_count = len(chef_detections.get(smell, []))\n",
        "    puppet_count = len(puppet_detections.get(smell, []))\n",
        "    print(f\"  {smell}: Chef={chef_count}, Puppet={puppet_count}\")\n",
        "\n",
        "print(f\"\\n✅ Total detections extracted: {sum(len(detections) for detections in chef_detections.values()) + sum(len(detections) for detections in puppet_detections.values())}\")\n"
      ]
    },
    {
      "cell_type": "markdown",
      "metadata": {
        "vscode": {
          "languageId": "raw"
        }
      },
      "source": [
        "## Save Extracted Data\n"
      ]
    },
    {
      "cell_type": "code",
      "execution_count": 7,
      "metadata": {},
      "outputs": [
        {
          "name": "stderr",
          "output_type": "stream",
          "text": [
            "INFO:hybrid.data_extractor:Loaded chef data: Oracle=148, GLITCH=166\n",
            "INFO:hybrid.data_extractor:Hard-coded secret: 9 TP, 37 FP\n",
            "INFO:hybrid.data_extractor:Suspicious comment: 4 TP, 6 FP\n",
            "INFO:hybrid.data_extractor:Use of weak cryptography algorithms: 1 TP, 1 FP\n",
            "INFO:hybrid.data_extractor:Extracted 46 detections for Hard-coded secret\n",
            "INFO:hybrid.data_extractor:Extracted 10 detections for Suspicious comment\n",
            "INFO:hybrid.data_extractor:Extracted 2 detections for Use of weak cryptography algorithms\n",
            "INFO:hybrid.data_extractor:Saved 46 detections to /Users/colemei/Library/Mobile Documents/com~apple~CloudDocs/01.Work/04.Master/Course/Research Program/Project/LLM-IaC-SecEval/experiments/llm-postfilter/data/chef_hard_coded_secret_detections.csv\n",
            "INFO:hybrid.data_extractor:Saved 10 detections to /Users/colemei/Library/Mobile Documents/com~apple~CloudDocs/01.Work/04.Master/Course/Research Program/Project/LLM-IaC-SecEval/experiments/llm-postfilter/data/chef_suspicious_comment_detections.csv\n",
            "INFO:hybrid.data_extractor:Saved 2 detections to /Users/colemei/Library/Mobile Documents/com~apple~CloudDocs/01.Work/04.Master/Course/Research Program/Project/LLM-IaC-SecEval/experiments/llm-postfilter/data/chef_use_of_weak_cryptography_algorithms_detections.csv\n",
            "INFO:hybrid.data_extractor:Saved summary to /Users/colemei/Library/Mobile Documents/com~apple~CloudDocs/01.Work/04.Master/Course/Research Program/Project/LLM-IaC-SecEval/experiments/llm-postfilter/data/chef_detection_summary.csv\n",
            "INFO:hybrid.data_extractor:Loaded puppet data: Oracle=117, GLITCH=197\n",
            "INFO:hybrid.data_extractor:Hard-coded secret: 9 TP, 57 FP\n",
            "INFO:hybrid.data_extractor:Suspicious comment: 9 TP, 14 FP\n",
            "INFO:hybrid.data_extractor:Use of weak cryptography algorithms: 4 TP, 3 FP\n",
            "INFO:hybrid.data_extractor:Extracted 66 detections for Hard-coded secret\n",
            "INFO:hybrid.data_extractor:Extracted 23 detections for Suspicious comment\n",
            "INFO:hybrid.data_extractor:Extracted 7 detections for Use of weak cryptography algorithms\n",
            "INFO:hybrid.data_extractor:Saved 66 detections to /Users/colemei/Library/Mobile Documents/com~apple~CloudDocs/01.Work/04.Master/Course/Research Program/Project/LLM-IaC-SecEval/experiments/llm-postfilter/data/puppet_hard_coded_secret_detections.csv\n",
            "INFO:hybrid.data_extractor:Saved 23 detections to /Users/colemei/Library/Mobile Documents/com~apple~CloudDocs/01.Work/04.Master/Course/Research Program/Project/LLM-IaC-SecEval/experiments/llm-postfilter/data/puppet_suspicious_comment_detections.csv\n",
            "INFO:hybrid.data_extractor:Saved 7 detections to /Users/colemei/Library/Mobile Documents/com~apple~CloudDocs/01.Work/04.Master/Course/Research Program/Project/LLM-IaC-SecEval/experiments/llm-postfilter/data/puppet_use_of_weak_cryptography_algorithms_detections.csv\n",
            "INFO:hybrid.data_extractor:Saved summary to /Users/colemei/Library/Mobile Documents/com~apple~CloudDocs/01.Work/04.Master/Course/Research Program/Project/LLM-IaC-SecEval/experiments/llm-postfilter/data/puppet_detection_summary.csv\n"
          ]
        },
        {
          "name": "stdout",
          "output_type": "stream",
          "text": [
            "💾 Saving extracted data...\n",
            "✅ Chef data saved to /Users/colemei/Library/Mobile Documents/com~apple~CloudDocs/01.Work/04.Master/Course/Research Program/Project/LLM-IaC-SecEval/experiments/llm-postfilter/data\n",
            "✅ Puppet data saved to /Users/colemei/Library/Mobile Documents/com~apple~CloudDocs/01.Work/04.Master/Course/Research Program/Project/LLM-IaC-SecEval/experiments/llm-postfilter/data\n",
            "\n",
            "📁 Saved files:\n",
            "  chef_detection_summary.csv (181 bytes)\n",
            "  chef_hard_coded_secret_detections.csv (12,068 bytes)\n",
            "  chef_suspicious_comment_detections.csv (3,176 bytes)\n",
            "  chef_use_of_weak_cryptography_algorithms_detections.csv (795 bytes)\n",
            "  puppet_detection_summary.csv (188 bytes)\n",
            "  puppet_hard_coded_secret_detections.csv (18,591 bytes)\n",
            "  puppet_suspicious_comment_detections.csv (6,281 bytes)\n",
            "  puppet_use_of_weak_cryptography_algorithms_detections.csv (2,504 bytes)\n",
            "\n",
            "🎯 Next steps:\n",
            "1. Design LLM prompts for each security smell category\n",
            "2. Implement LLM post-filtering pipeline\n",
            "3. Evaluate GLITCH+LLM vs GLITCH-only performance\n",
            "\n",
            "🚀 Data extraction phase completed successfully!\n"
          ]
        }
      ],
      "source": [
        "print(\"💾 Saving extracted data...\")\n",
        "\n",
        "# Save both Chef and Puppet detections\n",
        "output_dir = project_root / \"experiments/llm-postfilter/data\"\n",
        "output_dir.mkdir(parents=True, exist_ok=True)\n",
        "\n",
        "# Save Chef data\n",
        "chef_saved = extractor.save_detections('chef', output_dir)\n",
        "print(f\"✅ Chef data saved to {output_dir}\")\n",
        "\n",
        "# Save Puppet data  \n",
        "puppet_saved = extractor.save_detections('puppet', output_dir)\n",
        "print(f\"✅ Puppet data saved to {output_dir}\")\n",
        "\n",
        "# List saved files\n",
        "print(f\"\\n📁 Saved files:\")\n",
        "for file_path in sorted(output_dir.glob(\"*.csv\")):\n",
        "    file_size = file_path.stat().st_size\n",
        "    print(f\"  {file_path.name} ({file_size:,} bytes)\")\n",
        "\n",
        "print(f\"\\n🎯 Next steps:\")\n",
        "print(\"1. Design LLM prompts for each security smell category\")\n",
        "print(\"2. Implement LLM post-filtering pipeline\") \n",
        "print(\"3. Evaluate GLITCH+LLM vs GLITCH-only performance\")\n",
        "print(\"\\n🚀 Data extraction phase completed successfully!\")\n"
      ]
    }
  ],
  "metadata": {
    "kernelspec": {
      "display_name": "research",
      "language": "python",
      "name": "python3"
    },
    "language_info": {
      "codemirror_mode": {
        "name": "ipython",
        "version": 3
      },
      "file_extension": ".py",
      "mimetype": "text/x-python",
      "name": "python",
      "nbconvert_exporter": "python",
      "pygments_lexer": "ipython3",
      "version": "3.10.18"
    }
  },
  "nbformat": 4,
  "nbformat_minor": 2
}
